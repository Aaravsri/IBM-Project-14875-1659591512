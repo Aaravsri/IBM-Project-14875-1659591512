{
  "nbformat": 4,
  "nbformat_minor": 0,
  "metadata": {
    "colab": {
      "provenance": []
    },
    "kernelspec": {
      "name": "python3",
      "display_name": "Python 3"
    },
    "language_info": {
      "name": "python"
    }
  },
  "cells": [
    {
      "cell_type": "code",
      "execution_count": 2,
      "metadata": {
        "id": "GwRDiurSLc0y"
      },
      "outputs": [],
      "source": [
        "!pip install -q kaggle"
      ]
    },
    {
      "cell_type": "code",
      "source": [
        "!mkdir ~/.kaggle"
      ],
      "metadata": {
        "id": "lipn_8LYMDoG"
      },
      "execution_count": 3,
      "outputs": []
    },
    {
      "cell_type": "code",
      "source": [
        "!cp kaggle.json ~/.kaggle/"
      ],
      "metadata": {
        "id": "3jcF2sNnMMT7"
      },
      "execution_count": 5,
      "outputs": []
    },
    {
      "cell_type": "code",
      "source": [
        "!chmod 600 ~/.kaggle/kaggle.json"
      ],
      "metadata": {
        "id": "K6KpeTDpMdHW"
      },
      "execution_count": 6,
      "outputs": []
    },
    {
      "cell_type": "code",
      "source": [
        "!kaggle datasets download -d vijay0601/estimate-the-crop-yield-using-data-analytics"
      ],
      "metadata": {
        "colab": {
          "base_uri": "https://localhost:8080/"
        },
        "id": "2iWaF8xyMugm",
        "outputId": "38547a8e-c6f1-4dd5-a1bd-94a54584d800"
      },
      "execution_count": 7,
      "outputs": [
        {
          "output_type": "stream",
          "name": "stdout",
          "text": [
            "Downloading estimate-the-crop-yield-using-data-analytics.zip to /content\n",
            "\r  0% 0.00/1.96M [00:00<?, ?B/s]\n",
            "\r100% 1.96M/1.96M [00:00<00:00, 249MB/s]\n"
          ]
        }
      ]
    },
    {
      "cell_type": "code",
      "source": [
        "!unzip /content/estimate-the-crop-yield-using-data-analytics.zip"
      ],
      "metadata": {
        "colab": {
          "base_uri": "https://localhost:8080/"
        },
        "id": "uUf8iJ0ZPNvo",
        "outputId": "4b8235b4-ac6f-44ff-c52d-d6648c265d29"
      },
      "execution_count": 8,
      "outputs": [
        {
          "output_type": "stream",
          "name": "stdout",
          "text": [
            "Archive:  /content/estimate-the-crop-yield-using-data-analytics.zip\n",
            "  inflating: crop_production.csv.csv  \n"
          ]
        }
      ]
    }
  ]
}